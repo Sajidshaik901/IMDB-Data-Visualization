{
  "nbformat": 4,
  "nbformat_minor": 0,
  "metadata": {
    "colab": {
      "provenance": [],
      "authorship_tag": "ABX9TyMrWzYZHW+JwVOQkmPkMByg",
      "include_colab_link": true
    },
    "kernelspec": {
      "name": "python3",
      "display_name": "Python 3"
    },
    "language_info": {
      "name": "python"
    }
  },
  "cells": [
    {
      "cell_type": "markdown",
      "metadata": {
        "id": "view-in-github",
        "colab_type": "text"
      },
      "source": [
        "<a href=\"https://colab.research.google.com/github/Sajidshaik901/imdb-data-visualization/blob/main/pythonminorproject.ipynb\" target=\"_parent\"><img src=\"https://colab.research.google.com/assets/colab-badge.svg\" alt=\"Open In Colab\"/></a>"
      ]
    },
    {
      "cell_type": "code",
      "execution_count": null,
      "metadata": {
        "id": "OCe2MwFe8cMG"
      },
      "outputs": [],
      "source": [
        "\n",
        "import numpy as np\n",
        "import pandas as pd\n",
        "import matplotlib.pyplot as plt\n",
        "import seaborn as sns\n",
        "import warnings\n",
        "warnings.filterwarnings('ignore')"
      ]
    },
    {
      "cell_type": "code",
      "source": [
        "data = pd.read_csv('/content/IMDB-Movie-Data.csv')"
      ],
      "metadata": {
        "id": "SP4YoqCi9GSJ"
      },
      "execution_count": null,
      "outputs": []
    },
    {
      "cell_type": "markdown",
      "source": [
        "1.Display top 10 Rows of the dataset"
      ],
      "metadata": {
        "id": "IHUUHcTc9roF"
      }
    },
    {
      "cell_type": "code",
      "source": [
        " data.head(10)\n"
      ],
      "metadata": {
        "collapsed": true,
        "id": "0xkinNCn9hyo"
      },
      "execution_count": null,
      "outputs": []
    },
    {
      "cell_type": "markdown",
      "source": [
        "2. Check Last 10 Rows of The Dataset"
      ],
      "metadata": {
        "id": "5kVVkysh96vL"
      }
    },
    {
      "cell_type": "code",
      "source": [
        "data.tail(10)"
      ],
      "metadata": {
        "id": "RSnJixjy9_J_"
      },
      "execution_count": null,
      "outputs": []
    },
    {
      "cell_type": "markdown",
      "source": [
        "\n",
        "3. Find Shape of Our Dataset (Number of Rows And Number of Columns)"
      ],
      "metadata": {
        "id": "Ov6o8rQh-Jqt"
      }
    },
    {
      "cell_type": "code",
      "source": [
        "data.shape"
      ],
      "metadata": {
        "id": "RTW_r3F9-KpM"
      },
      "execution_count": null,
      "outputs": []
    },
    {
      "cell_type": "code",
      "source": [
        "print(\"Number of Rows\",data.shape[0])\n",
        "print(\"Number of Columns\",data.shape[1])"
      ],
      "metadata": {
        "id": "u5pPRxpg-mC3"
      },
      "execution_count": null,
      "outputs": []
    },
    {
      "cell_type": "markdown",
      "source": [
        "4. Getting Information About Our Dataset Like Total Number Rows, Total Number of Columns, Datatypes of Each Column And Memory Requirement"
      ],
      "metadata": {
        "id": "oKCPjUFR-sH7"
      }
    },
    {
      "cell_type": "code",
      "source": [
        "data.info()"
      ],
      "metadata": {
        "id": "JunW09IQ-uff"
      },
      "execution_count": null,
      "outputs": []
    },
    {
      "cell_type": "markdown",
      "source": [
        "5. Check Null values In The dataset"
      ],
      "metadata": {
        "id": "eXCSTsCv-zB4"
      }
    },
    {
      "cell_type": "code",
      "source": [
        "print(\"Any missing value?\",data.isnull().values.any())"
      ],
      "metadata": {
        "id": "YIR0kCrHAbqQ"
      },
      "execution_count": null,
      "outputs": []
    },
    {
      "cell_type": "code",
      "source": [
        "data.isnull ()"
      ],
      "metadata": {
        "id": "FtIJBpvyBMSx"
      },
      "execution_count": null,
      "outputs": []
    },
    {
      "cell_type": "markdown",
      "source": [
        "6. Drop All The Missing Values\n",
        "\n",
        "No missing values"
      ],
      "metadata": {
        "id": "xp96JjWr_KlW"
      }
    },
    {
      "cell_type": "markdown",
      "source": [
        "7. Check For Duplicate Data"
      ],
      "metadata": {
        "id": "xTQo0vAnBkYF"
      }
    },
    {
      "cell_type": "code",
      "source": [
        "dup_data=data.duplicated().any()\n",
        "print(\"Are there any duplicated values in data?\",dup_data)"
      ],
      "metadata": {
        "id": "4sdGKi3KBmUk"
      },
      "execution_count": null,
      "outputs": []
    },
    {
      "cell_type": "markdown",
      "source": [
        "8. Get Overall Statistics About The DataFrame"
      ],
      "metadata": {
        "id": "Am9SFBdgBuZI"
      }
    },
    {
      "cell_type": "code",
      "source": [
        "data.describe()"
      ],
      "metadata": {
        "id": "d-v-5--aBvLv"
      },
      "execution_count": null,
      "outputs": []
    },
    {
      "cell_type": "markdown",
      "source": [
        "9. Display Title of The Movie Having Runtime >= 180 Minutes"
      ],
      "metadata": {
        "id": "tezk6h7gB0p5"
      }
    },
    {
      "cell_type": "code",
      "source": [
        "data[data['Runtime (Minutes)']>=180]['Title']"
      ],
      "metadata": {
        "id": "nls6SH-9B4Cl"
      },
      "execution_count": null,
      "outputs": []
    },
    {
      "cell_type": "markdown",
      "source": [
        "10. In Which Year There Was The Highest Voting?"
      ],
      "metadata": {
        "id": "LBl_XtS_CCoC"
      }
    },
    {
      "cell_type": "code",
      "source": [
        "sns.barplot(x='Year',y='Votes',data=data)\n",
        "plt.title(\"Votes By Year\")\n",
        "plt.show()"
      ],
      "metadata": {
        "id": "biBIK4DYCE6b"
      },
      "execution_count": null,
      "outputs": []
    },
    {
      "cell_type": "markdown",
      "source": [
        "11. In Which Year There Was The Highest Revenue?"
      ],
      "metadata": {
        "id": "DFvZDqxkDZr2"
      }
    },
    {
      "cell_type": "code",
      "source": [
        "sns.barplot(x='Year',y='Revenue (Millions)',data=data)\n",
        "plt.title(\"Revenue By Year\")\n",
        "plt.show()"
      ],
      "metadata": {
        "id": "1j2_vO-_DbcZ"
      },
      "execution_count": null,
      "outputs": []
    },
    {
      "cell_type": "markdown",
      "source": [
        "12. Find The Average Rating For Each Director"
      ],
      "metadata": {
        "id": "xE23BptzDelf"
      }
    },
    {
      "cell_type": "code",
      "source": [
        "data.groupby('Director')['Rating'].mean().sort_values(ascending=False)"
      ],
      "metadata": {
        "id": "UPf2FfXYDgVO"
      },
      "execution_count": null,
      "outputs": []
    },
    {
      "cell_type": "markdown",
      "source": [
        "13. Display Top 10 Lengthy Movies Title"
      ],
      "metadata": {
        "id": "9mu39hRCDmVL"
      }
    },
    {
      "cell_type": "code",
      "source": [
        "le = data.nlargest(10, 'Runtime (Minutes)')[['Title', 'Runtime (Minutes)']].set_index('Title')"
      ],
      "metadata": {
        "id": "tHg9idogDpL-"
      },
      "execution_count": null,
      "outputs": []
    },
    {
      "cell_type": "code",
      "source": [
        "sns.barplot(x=le['Runtime (Minutes)'], y=le.index)\n",
        "plt.title('Top 10 Lengthy Movies')\n",
        "plt.xlabel('Runtime (Minutes)')\n",
        "plt.ylabel('Movie Title')\n",
        "plt.tight_layout()\n",
        "plt.show()"
      ],
      "metadata": {
        "id": "uqRhLcn4Duz4"
      },
      "execution_count": null,
      "outputs": []
    },
    {
      "cell_type": "markdown",
      "source": [
        "14. Display Number of Movies Per Year"
      ],
      "metadata": {
        "id": "_0533w17HLHz"
      }
    },
    {
      "cell_type": "code",
      "source": [
        "sns.countplot(x='Year',data=data)\n",
        "plt.title(\"Number of Movies Per Year\")"
      ],
      "metadata": {
        "id": "voALiIy6HNQ3"
      },
      "execution_count": null,
      "outputs": []
    },
    {
      "cell_type": "markdown",
      "source": [
        "15. Find Most Popular Movie Title (Higest Revenue)"
      ],
      "metadata": {
        "id": "RjeuqIgRHP1x"
      }
    },
    {
      "cell_type": "code",
      "source": [
        "data.columns"
      ],
      "metadata": {
        "id": "WHto2QM5HRSs"
      },
      "execution_count": null,
      "outputs": []
    },
    {
      "cell_type": "code",
      "source": [
        "data[data['Revenue (Millions)'].max() == data['Revenue (Millions)']]['Title']\n"
      ],
      "metadata": {
        "id": "aVQyx5uzHS8K"
      },
      "execution_count": null,
      "outputs": []
    },
    {
      "cell_type": "markdown",
      "source": [
        "16. Display Top 10 Highest Rated Movie Titles And its Directors"
      ],
      "metadata": {
        "id": "DYeLvLL0HXm3"
      }
    },
    {
      "cell_type": "code",
      "source": [
        "top_10=data.nlargest(10,'Rating')[['Title','Rating','Director']]\n"
      ],
      "metadata": {
        "id": "FT2c7JeEHYVp"
      },
      "execution_count": null,
      "outputs": []
    },
    {
      "cell_type": "code",
      "source": [
        "top_10.index = top_10['Title'] + \" (\" + top_10['Director'] + \")\""
      ],
      "metadata": {
        "id": "F-iZuDWLHcCp"
      },
      "execution_count": null,
      "outputs": []
    },
    {
      "cell_type": "code",
      "source": [
        "sns.barplot(x=top_10['Rating'], y=top_10.index)\n",
        "plt.title(\"Top 10 Highest Rated Movies and Directors\")"
      ],
      "metadata": {
        "id": "3SInxcb-Hea8"
      },
      "execution_count": null,
      "outputs": []
    },
    {
      "cell_type": "markdown",
      "source": [
        "17. Display Top 10 Highest Revenue Movie Titles"
      ],
      "metadata": {
        "id": "TsAYafZYLbB-"
      }
    },
    {
      "cell_type": "code",
      "source": [
        "data.columns"
      ],
      "metadata": {
        "id": "BCe_EBS7Lbv9"
      },
      "execution_count": null,
      "outputs": []
    },
    {
      "cell_type": "code",
      "source": [
        "data.sort_values(by='Revenue (Millions)',ascending=False).head(10)"
      ],
      "metadata": {
        "id": "uLbWmdsVLffd"
      },
      "execution_count": null,
      "outputs": []
    },
    {
      "cell_type": "code",
      "source": [
        "top_10 = data.nlargest(10, 'Revenue (Millions)')[['Title', 'Revenue (Millions)']]\n"
      ],
      "metadata": {
        "id": "TAPGZCWBLiEF"
      },
      "execution_count": null,
      "outputs": []
    },
    {
      "cell_type": "code",
      "source": [
        "sns.barplot(x='Revenue (Millions)', y='Title', data=top_10)\n",
        "plt.title(\"Top 10 Highest Revenue Movie Titles\")\n",
        "plt.show()"
      ],
      "metadata": {
        "id": "slK-7XJXLlQX"
      },
      "execution_count": null,
      "outputs": []
    },
    {
      "cell_type": "markdown",
      "source": [
        "18. Find Average Rating of Movies Year-wise"
      ],
      "metadata": {
        "id": "OloWnugWMAm_"
      }
    },
    {
      "cell_type": "code",
      "source": [
        "data.columns"
      ],
      "metadata": {
        "id": "fY7ZtXQGMBHM"
      },
      "execution_count": null,
      "outputs": []
    },
    {
      "cell_type": "code",
      "source": [
        "data1=(\n",
        "    data.groupby('Year')[['Year','Rating']]\n",
        "    .mean()\n",
        "   .sort_values(by='Rating',ascending=False)\n",
        "   .set_index('Year')\n",
        ")"
      ],
      "metadata": {
        "id": "5fm_xA_LME9I"
      },
      "execution_count": null,
      "outputs": []
    },
    {
      "cell_type": "code",
      "source": [
        "data1"
      ],
      "metadata": {
        "id": "hgQfKGntM4EC"
      },
      "execution_count": null,
      "outputs": []
    },
    {
      "cell_type": "code",
      "source": [
        "plt.figure(figsize=(10,5))\n",
        "sns.barplot(x=data1.index, y=data1['Rating'])\n",
        "plt.show()"
      ],
      "metadata": {
        "id": "9pv0PRvOM7Is"
      },
      "execution_count": null,
      "outputs": []
    },
    {
      "cell_type": "markdown",
      "source": [
        "\n",
        "19. Does Rating Affect The Revenue?"
      ],
      "metadata": {
        "id": "iQZtICbXNOK9"
      }
    },
    {
      "cell_type": "code",
      "source": [
        "sns.scatterplot(x='Rating',y='Revenue (Millions)',data=data)"
      ],
      "metadata": {
        "id": "aVZsDriUNPRs"
      },
      "execution_count": null,
      "outputs": []
    },
    {
      "cell_type": "markdown",
      "source": [
        "\n",
        "20. Classify Movies Based on Ratings [Good,Better and Best]"
      ],
      "metadata": {
        "id": "MMsY9e5zNZJ_"
      }
    },
    {
      "cell_type": "code",
      "source": [
        "data.columns"
      ],
      "metadata": {
        "id": "LwpkHTYzNavW"
      },
      "execution_count": null,
      "outputs": []
    },
    {
      "cell_type": "code",
      "source": [
        "def rating(rating):\n",
        "    if rating>=7.0:\n",
        "        return 'Excellent'\n",
        "    elif rating>=6.0:\n",
        "        return 'Good'\n",
        "    else:\n",
        "        return 'Average'"
      ],
      "metadata": {
        "id": "QpLa-hS5Nf2Z"
      },
      "execution_count": null,
      "outputs": []
    },
    {
      "cell_type": "code",
      "source": [
        "\n",
        "data['rating_cat']=data['Rating'].apply(rating)"
      ],
      "metadata": {
        "id": "UPU8Xu_2NhlP"
      },
      "execution_count": null,
      "outputs": []
    },
    {
      "cell_type": "code",
      "source": [
        "data.head(1)"
      ],
      "metadata": {
        "id": "eovFKYX8NjHG"
      },
      "execution_count": null,
      "outputs": []
    },
    {
      "cell_type": "markdown",
      "source": [
        "21. Count Number of Action Movies\n"
      ],
      "metadata": {
        "id": "1-gZmmRiNrQz"
      }
    },
    {
      "cell_type": "code",
      "source": [
        "list1=[]\n",
        "for value in data['Genre']:\n",
        "    list1.append(value.split(','))"
      ],
      "metadata": {
        "id": "C-CXmORINr1_"
      },
      "execution_count": null,
      "outputs": []
    },
    {
      "cell_type": "code",
      "source": [
        "data['temp']=list1"
      ],
      "metadata": {
        "id": "F_ErtwOUNutN"
      },
      "execution_count": null,
      "outputs": []
    },
    {
      "cell_type": "code",
      "source": [
        "genre=input(\"Enter Genre you want to count : \").title()\n",
        "count=0\n",
        "for value in data['temp']:\n",
        "    if genre in value:\n",
        "        count=count+1\n",
        "print(\"Total Count is\",count)"
      ],
      "metadata": {
        "id": "UVxUgx_YNxS8"
      },
      "execution_count": null,
      "outputs": []
    }
  ]
}